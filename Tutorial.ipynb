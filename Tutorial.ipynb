{
 "cells": [
  {
   "cell_type": "markdown",
   "metadata": {},
   "source": [
    "# Docker SDK For Python\n",
    "## Intro Tutorial"
   ]
  },
  {
   "cell_type": "code",
   "execution_count": 8,
   "metadata": {},
   "outputs": [],
   "source": [
    "import docker\n",
    "import git\n",
    "import os"
   ]
  },
  {
   "cell_type": "markdown",
   "metadata": {},
   "source": [
    "### Let's clone the git repository"
   ]
  },
  {
   "cell_type": "code",
   "execution_count": 18,
   "metadata": {},
   "outputs": [],
   "source": [
    "GOL_PATH = 'GameOfLife'\n",
    "REPO_URL = 'https://github.com/Kmaschta/GameOfLife.git'\n",
    "\n",
    "# clone git repo in this directory\n",
    "if not os.path.isdir(GOL_PATH):\n",
    "    git.Repo.clone_from(REPO_URL, GOL_PATH)"
   ]
  },
  {
   "cell_type": "markdown",
   "metadata": {},
   "source": [
    "### Get Client"
   ]
  },
  {
   "cell_type": "code",
   "execution_count": 3,
   "metadata": {},
   "outputs": [],
   "source": [
    "client = docker.from_env()"
   ]
  },
  {
   "cell_type": "markdown",
   "metadata": {},
   "source": [
    "### Build Backend Image"
   ]
  },
  {
   "cell_type": "code",
   "execution_count": null,
   "metadata": {},
   "outputs": [],
   "source": [
    "back_path = 'GameOfLife/src/backend/'\n",
    "back_img = client.images.build(path=back_path,\n",
    "                tag='backend', rm=True, buildargs={})"
   ]
  },
  {
   "cell_type": "markdown",
   "metadata": {},
   "source": [
    "### Build and Launch Bridge Network"
   ]
  },
  {
   "cell_type": "code",
   "execution_count": null,
   "metadata": {},
   "outputs": [],
   "source": [
    "# parameters\n",
    "net_name =  'net'\n",
    "driver = 'bridge'"
   ]
  },
  {
   "cell_type": "code",
   "execution_count": null,
   "metadata": {},
   "outputs": [],
   "source": [
    "net = client.networks.create(net_name, driver=driver)"
   ]
  },
  {
   "cell_type": "markdown",
   "metadata": {},
   "source": [
    "### Launch Containers"
   ]
  },
  {
   "cell_type": "code",
   "execution_count": null,
   "metadata": {},
   "outputs": [],
   "source": [
    "# docker parameters\n",
    "vols = { 'src/backend' : {\n",
    "    'bind' : '/code' ,\n",
    "    'mode' : 'rw'\n",
    "}}\n",
    "back_name = 'backend'\n",
    "front_name = 'frontend'\n",
    "back_port = 8000\n",
    "front_port = 8080\n",
    "back_ports = {str(back_port) +'/tcp' : back_port}\n",
    "front_ports = {str(front_port) + '/tcp' : front_ports}\n",
    "back\n",
    "cmd = 'python manage.py run server {}:{}'.format(back_name, back_port)"
   ]
  },
  {
   "cell_type": "code",
   "execution_count": null,
   "metadata": {},
   "outputs": [],
   "source": [
    "back_cont = client.containers.run(image=back_img, name ='backend',\n",
    "            ports=back_ports, network=net_name, volumes=vols, detach=True)\n",
    "front_cont = client.contaianers.run(image='redis', ports=front_ports,\n",
    "            detach=True)"
   ]
  }
 ],
 "metadata": {
  "kernelspec": {
   "display_name": "Python 3",
   "language": "python",
   "name": "python3"
  },
  "language_info": {
   "codemirror_mode": {
    "name": "ipython",
    "version": 3
   },
   "file_extension": ".py",
   "mimetype": "text/x-python",
   "name": "python",
   "nbconvert_exporter": "python",
   "pygments_lexer": "ipython3",
   "version": "3.6.4"
  }
 },
 "nbformat": 4,
 "nbformat_minor": 2
}
