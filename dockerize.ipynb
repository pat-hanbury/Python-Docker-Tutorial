{
 "cells": [
  {
   "cell_type": "markdown",
   "metadata": {},
   "source": [
    "## Dockerize Scrap Notebook"
   ]
  },
  {
   "cell_type": "code",
   "execution_count": 1,
   "metadata": {},
   "outputs": [],
   "source": [
    "import docker\n",
    "import os\n",
    "from git import Repo\n",
    "import shutil"
   ]
  },
  {
   "cell_type": "code",
   "execution_count": 2,
   "metadata": {},
   "outputs": [],
   "source": [
    "client = docker.from_env()\n",
    "cwd = os.getcwd()\n",
    "# dock_pth = os.path.join(cwd,'todo')"
   ]
  },
  {
   "cell_type": "markdown",
   "metadata": {},
   "source": [
    "## Clone Repo"
   ]
  },
  {
   "cell_type": "code",
   "execution_count": 3,
   "metadata": {},
   "outputs": [],
   "source": [
    "git_url = 'https://github.com/rHuggler/django-todo.git'\n",
    "repo_dir = os.path.join(cwd, 'todo')\n",
    "if os.path.isdir(repo_dir):\n",
    "    print(f\"Removing {repo_dir}\")\n",
    "    shutil.rmtree(repo_dir)\n",
    "Repo.clone_from(git_url, repo_dir);"
   ]
  },
  {
   "cell_type": "markdown",
   "metadata": {},
   "source": [
    "## Clean Up Docker"
   ]
  },
  {
   "cell_type": "code",
   "execution_count": 35,
   "metadata": {},
   "outputs": [],
   "source": [
    "# remove dangling containers\n",
    "db_name = 'db'\n",
    "web_name = 'web'\n",
    "api_name = 'api'\n",
    "names = [db_name, web_name, api_name]\n",
    "for cont in client.containers.list(all=True):\n",
    "    if cont.name in names:\n",
    "        cont.stop() # if running\n",
    "        try:\n",
    "            cont.remove()\n",
    "        except:\n",
    "            pass"
   ]
  },
  {
   "cell_type": "code",
   "execution_count": 36,
   "metadata": {},
   "outputs": [],
   "source": [
    "# remove any dangling nets\n",
    "net_name = 'djang-net'\n",
    "nets = client.networks.list()\n",
    "for net in nets:\n",
    "    if net.name == net_name:\n",
    "        net.remove()"
   ]
  },
  {
   "cell_type": "code",
   "execution_count": 37,
   "metadata": {},
   "outputs": [],
   "source": [
    "## Create Shell Script and Move to Todo\n",
    "with open('todo/api/django_todo/api.sh', 'w') as fb:\n",
    "    cmds = ['python manage.py makemigrations', 'python manage.py migrate',\n",
    "           'python manage.py runserver 0.0.0.0:8000']\n",
    "    for cmd in cmds:\n",
    "        fb.write(cmd + '\\n')\n",
    "        \n",
    "with open('todo/web/vue-todo/web.sh', 'w') as fb:\n",
    "    cmds = ['npm install', 'npm run dev']\n",
    "    for cmd in cmds:\n",
    "        fb.write(cmd + '\\n')"
   ]
  },
  {
   "cell_type": "markdown",
   "metadata": {},
   "source": [
    "## Build Images"
   ]
  },
  {
   "cell_type": "code",
   "execution_count": 38,
   "metadata": {},
   "outputs": [],
   "source": [
    "web_pth = os.path.join(repo_dir, 'web')\n",
    "web_img, logs = client.images.build(path=web_pth, tag='web')"
   ]
  },
  {
   "cell_type": "code",
   "execution_count": 39,
   "metadata": {},
   "outputs": [],
   "source": [
    "api_pth = os.path.join(repo_dir, 'api')\n",
    "api_img, logs = client.images.build(path=api_pth, tag='api')"
   ]
  },
  {
   "cell_type": "markdown",
   "metadata": {},
   "source": [
    "## Build Net"
   ]
  },
  {
   "cell_type": "code",
   "execution_count": 40,
   "metadata": {},
   "outputs": [],
   "source": [
    "net = client.networks.create(name=net_name, driver='bridge')"
   ]
  },
  {
   "cell_type": "markdown",
   "metadata": {},
   "source": [
    "## Run Containers"
   ]
  },
  {
   "cell_type": "markdown",
   "metadata": {},
   "source": [
    "#### Parameters"
   ]
  },
  {
   "cell_type": "code",
   "execution_count": 41,
   "metadata": {},
   "outputs": [
    {
     "name": "stdout",
     "output_type": "stream",
     "text": [
      "{'/home/patrick/projects/docktutorial/todo/web/vue-todo': {'bind': '/usr/src/app', 'mode': 'rw'}}\n"
     ]
    }
   ],
   "source": [
    "# ports\n",
    "api_ports = {'8000/tcp' : 8000}\n",
    "web_ports = {'8080/tcp' : 8080}\n",
    "web_env = [\"HOST=0.0.0.0\"]\n",
    "\n",
    "# volumes\n",
    "api_vol = { \n",
    "    os.path.join(repo_dir, 'api/django_todo') : {'bind': '/usr/src/app', 'mode': 'rw'}\n",
    "}\n",
    "\n",
    "web_vol = {\n",
    "    os.path.join(repo_dir, 'web/vue-todo') : { 'bind' : '/usr/src/app', 'mode' : 'rw'}\n",
    "}\n",
    "\n",
    "db_vol = {\n",
    "    os.path.join(repo_dir, 'dbdata') : {'bind' : '/var/lib/postgresql/data'}\n",
    "}\n",
    "\n",
    "print(web_vol)"
   ]
  },
  {
   "cell_type": "code",
   "execution_count": 42,
   "metadata": {},
   "outputs": [
    {
     "data": {
      "text/plain": [
       "'/home/patrick/projects/docktutorial/todo'"
      ]
     },
     "execution_count": 42,
     "metadata": {},
     "output_type": "execute_result"
    }
   ],
   "source": [
    "repo_dir\n"
   ]
  },
  {
   "cell_type": "markdown",
   "metadata": {},
   "source": [
    "#### Launch:\n",
    "We have 4 commands we need to execut in our containers:\n",
    "    1. (API) : python manage.py makemigrations\n",
    "    2. (API) : python manage.py migrate\n",
    "    3. (web) : npm install"
   ]
  },
  {
   "cell_type": "code",
   "execution_count": 43,
   "metadata": {},
   "outputs": [
    {
     "data": {
      "text/plain": [
       "\"\\napi.restart()\\napi.exec_run('python manage.py makemigrations')\\napi.exec_run('python manage.py migrate')\\napi.exec_run('python manage.py runserver 0.0.0.0:8000')\\n\\nweb.exec_run('npm install')\\nweb.exec_run('npm run dev')\\n\\n\\napi.exec_run('python manage.py runserver 0.0.0.0:8000')\\nweb.exec_run('')\\n\\n\\napi = client.containers.run(api_img, ports=api_ports, detach=True, \\n             name='api', network=net_name, \\n             command='python manage.py runserver 0.0.0.0:8000')\\n\\nweb = client.containers.run(web_img, ports=web_ports, detach=True,\\n             name='web', network=net_name, command='npm run dev')\\n\""
      ]
     },
     "execution_count": 43,
     "metadata": {},
     "output_type": "execute_result"
    }
   ],
   "source": [
    "db = client.containers.run('postgres:10', detach=True, name='db', \n",
    "                           network=net_name, volumes=db_vol)\n",
    "\n",
    "api = client.containers.run(api_img, ports=api_ports, detach=True, \n",
    "                            name='api', network=net_name, volumes=api_vol,\n",
    "                            command=\"sh api.sh\")\n",
    "\n",
    "# api.restart()\n",
    "\n",
    "web = client.containers.run(web_img, ports=web_ports, detach=True,\n",
    "                           name='web', network=net_name, volumes=web_vol,\n",
    "                           environment=web_env, command=\"sh web.sh\")\n",
    "\n",
    "# web.commit('web')\n",
    "# volumes=web_vol\n",
    "# web.restart()\n",
    "\n",
    "\"\"\"\n",
    "api.restart()\n",
    "api.exec_run('python manage.py makemigrations')\n",
    "api.exec_run('python manage.py migrate')\n",
    "api.exec_run('python manage.py runserver 0.0.0.0:8000')\n",
    "\n",
    "web.exec_run('npm install')\n",
    "web.exec_run('npm run dev')\n",
    "\n",
    "\n",
    "api.exec_run('python manage.py runserver 0.0.0.0:8000')\n",
    "web.exec_run('')\n",
    "\n",
    "\n",
    "api = client.containers.run(api_img, ports=api_ports, detach=True, \n",
    "             name='api', network=net_name, \n",
    "             command='python manage.py runserver 0.0.0.0:8000')\n",
    "\n",
    "web = client.containers.run(web_img, ports=web_ports, detach=True,\n",
    "             name='web', network=net_name, command='npm run dev')\n",
    "\"\"\""
   ]
  },
  {
   "cell_type": "code",
   "execution_count": 23,
   "metadata": {},
   "outputs": [
    {
     "name": "stdout",
     "output_type": "stream",
     "text": [
      "Object `web.client.api.start()` not found.\n"
     ]
    }
   ],
   "source": [
    "??web.client.api.start()"
   ]
  },
  {
   "cell_type": "code",
   "execution_count": null,
   "metadata": {},
   "outputs": [],
   "source": [
    "\n"
   ]
  },
  {
   "cell_type": "code",
   "execution_count": null,
   "metadata": {},
   "outputs": [],
   "source": []
  }
 ],
 "metadata": {
  "kernelspec": {
   "display_name": "Python 3",
   "language": "python",
   "name": "python3"
  },
  "language_info": {
   "codemirror_mode": {
    "name": "ipython",
    "version": 3
   },
   "file_extension": ".py",
   "mimetype": "text/x-python",
   "name": "python",
   "nbconvert_exporter": "python",
   "pygments_lexer": "ipython3",
   "version": "3.6.4"
  }
 },
 "nbformat": 4,
 "nbformat_minor": 2
}
