{
 "cells": [
  {
   "cell_type": "markdown",
   "metadata": {},
   "source": [
    "## Dockerize Scrap Notebook"
   ]
  },
  {
   "cell_type": "code",
   "execution_count": 1,
   "metadata": {},
   "outputs": [],
   "source": [
    "import docker\n",
    "import os\n",
    "from git import Repo\n",
    "import shutil"
   ]
  },
  {
   "cell_type": "code",
   "execution_count": 2,
   "metadata": {},
   "outputs": [],
   "source": [
    "client = docker.from_env()\n",
    "cwd = os.getcwd()\n",
    "# dock_pth = os.path.join(cwd,'todo')"
   ]
  },
  {
   "cell_type": "markdown",
   "metadata": {},
   "source": [
    "## Clone Repo"
   ]
  },
  {
   "cell_type": "code",
   "execution_count": 3,
   "metadata": {},
   "outputs": [],
   "source": [
    "git_url = 'https://github.com/rHuggler/django-todo.git'\n",
    "repo_dir = os.path.join(cwd, 'todo')\n",
    "if os.path.isdir(repo_dir):\n",
    "    print(f\"Removing {repo_dir}\")\n",
    "    shutil.rmtree(repo_dir)\n",
    "Repo.clone_from(git_url, repo_dir);"
   ]
  },
  {
   "cell_type": "markdown",
   "metadata": {},
   "source": [
    "## Clean Up Docker"
   ]
  },
  {
   "cell_type": "code",
   "execution_count": 4,
   "metadata": {},
   "outputs": [],
   "source": [
    "# remove dangling containers\n",
    "db_name = 'db'\n",
    "web_name = 'web'\n",
    "api_name = 'api'\n",
    "names = [db_name, web_name, api_name]\n",
    "for cont in client.containers.list(all=True):\n",
    "    if cont.name in names:\n",
    "        cont.stop() # if running\n",
    "        try:\n",
    "            cont.remove()\n",
    "        except:\n",
    "            pass"
   ]
  },
  {
   "cell_type": "code",
   "execution_count": 5,
   "metadata": {},
   "outputs": [],
   "source": [
    "# remove any dangling nets\n",
    "net_name = 'djang-net'\n",
    "nets = client.networks.list()\n",
    "for net in nets:\n",
    "    if net.name == net_name:\n",
    "        net.remove()"
   ]
  },
  {
   "cell_type": "code",
   "execution_count": 6,
   "metadata": {},
   "outputs": [],
   "source": [
    "## Create Shell Script and Move to Todo\n",
    "with open('todo/api/django_todo/api.sh', 'w') as fb:\n",
    "    cmds = ['python manage.py makemigrations', 'python manage.py migrate',\n",
    "           'python manage.py runserver 0.0.0.0:8000']\n",
    "    for cmd in cmds:\n",
    "        fb.write(cmd + '\\n')\n",
    "        \n",
    "with open('todo/web/vue-todo/web.sh', 'w') as fb:\n",
    "    cmds = ['npm install', 'npm run dev']\n",
    "    for cmd in cmds:\n",
    "        fb.write(cmd + '\\n')"
   ]
  },
  {
   "cell_type": "markdown",
   "metadata": {},
   "source": [
    "## Build Images"
   ]
  },
  {
   "cell_type": "code",
   "execution_count": 7,
   "metadata": {},
   "outputs": [],
   "source": [
    "web_pth = os.path.join(repo_dir, 'web')\n",
    "web_img, logs = client.images.build(path=web_pth, tag='web')"
   ]
  },
  {
   "cell_type": "code",
   "execution_count": 8,
   "metadata": {},
   "outputs": [],
   "source": [
    "api_pth = os.path.join(repo_dir, 'api')\n",
    "api_img, logs = client.images.build(path=api_pth, tag='api')"
   ]
  },
  {
   "cell_type": "markdown",
   "metadata": {},
   "source": [
    "## Build Net"
   ]
  },
  {
   "cell_type": "code",
   "execution_count": 9,
   "metadata": {},
   "outputs": [],
   "source": [
    "net = client.networks.create(name=net_name, driver='bridge')"
   ]
  },
  {
   "cell_type": "markdown",
   "metadata": {},
   "source": [
    "## Run Containers"
   ]
  },
  {
   "cell_type": "markdown",
   "metadata": {},
   "source": [
    "#### Parameters"
   ]
  },
  {
   "cell_type": "code",
   "execution_count": 10,
   "metadata": {},
   "outputs": [
    {
     "name": "stdout",
     "output_type": "stream",
     "text": [
      "{'/home/patrick/projects/docktutorial/todo/web/vue-todo': {'bind': '/usr/src/app', 'mode': 'rw'}}\n"
     ]
    }
   ],
   "source": [
    "# ports\n",
    "api_ports = {'8000/tcp' : 8000}\n",
    "web_ports = {'8080/tcp' : 8080}\n",
    "web_env = [\"HOST=0.0.0.0\"]\n",
    "\n",
    "# volumes\n",
    "api_vol = { \n",
    "    os.path.join(repo_dir, 'api/django_todo') : {'bind': '/usr/src/app', 'mode': 'rw'}\n",
    "}\n",
    "\n",
    "web_vol = {\n",
    "    os.path.join(repo_dir, 'web/vue-todo') : { 'bind' : '/usr/src/app', 'mode' : 'rw'}\n",
    "}\n",
    "\n",
    "db_vol = {\n",
    "    os.path.join(repo_dir, 'dbdata') : {'bind' : '/var/lib/postgresql/data'}\n",
    "}\n",
    "\n",
    "print(web_vol)"
   ]
  },
  {
   "cell_type": "code",
   "execution_count": 11,
   "metadata": {},
   "outputs": [
    {
     "data": {
      "text/plain": [
       "'/home/patrick/projects/docktutorial/todo'"
      ]
     },
     "execution_count": 11,
     "metadata": {},
     "output_type": "execute_result"
    }
   ],
   "source": [
    "repo_dir\n"
   ]
  },
  {
   "cell_type": "markdown",
   "metadata": {},
   "source": [
    "#### Launch:\n",
    "We have 4 commands we need to execut in our containers:\n",
    "    1. (API) : python manage.py makemigrations\n",
    "    2. (API) : python manage.py migrate\n",
    "    3. (web) : npm install"
   ]
  },
  {
   "cell_type": "code",
   "execution_count": 12,
   "metadata": {},
   "outputs": [
    {
     "data": {
      "text/plain": [
       "\"\\napi.restart()\\napi.exec_run('python manage.py makemigrations')\\napi.exec_run('python manage.py migrate')\\napi.exec_run('python manage.py runserver 0.0.0.0:8000')\\n\\nweb.exec_run('npm install')\\nweb.exec_run('npm run dev')\\n\\n\\napi.exec_run('python manage.py runserver 0.0.0.0:8000')\\nweb.exec_run('')\\n\\n\\napi = client.containers.run(api_img, ports=api_ports, detach=True, \\n             name='api', network=net_name, \\n             command='python manage.py runserver 0.0.0.0:8000')\\n\\nweb = client.containers.run(web_img, ports=web_ports, detach=True,\\n             name='web', network=net_name, command='npm run dev')\\n\""
      ]
     },
     "execution_count": 12,
     "metadata": {},
     "output_type": "execute_result"
    }
   ],
   "source": [
    "db = client.containers.run('postgres:10', detach=True, name='db', \n",
    "                           network=net_name, volumes=db_vol)\n",
    "\n",
    "api = client.containers.run(api_img, ports=api_ports, detach=True, \n",
    "                            name='api', network=net_name, volumes=api_vol,\n",
    "                            command=\"sh api.sh\")\n",
    "\n",
    "# api.restart()\n",
    "\n",
    "web = client.containers.run(web_img, ports=web_ports, detach=True,\n",
    "                           name='web', network=net_name, volumes=web_vol,\n",
    "                           command=\"sh web.sh\")\n",
    "\n",
    "web.commit('web')\n",
    "# volumes=web_vol\n",
    "# web.restart()\n",
    "\n",
    "\"\"\"\n",
    "api.restart()\n",
    "api.exec_run('python manage.py makemigrations')\n",
    "api.exec_run('python manage.py migrate')\n",
    "api.exec_run('python manage.py runserver 0.0.0.0:8000')\n",
    "\n",
    "web.exec_run('npm install')\n",
    "web.exec_run('npm run dev')\n",
    "\n",
    "\n",
    "api.exec_run('python manage.py runserver 0.0.0.0:8000')\n",
    "web.exec_run('')\n",
    "\n",
    "\n",
    "api = client.containers.run(api_img, ports=api_ports, detach=True, \n",
    "             name='api', network=net_name, \n",
    "             command='python manage.py runserver 0.0.0.0:8000')\n",
    "\n",
    "web = client.containers.run(web_img, ports=web_ports, detach=True,\n",
    "             name='web', network=net_name, command='npm run dev')\n",
    "\"\"\""
   ]
  },
  {
   "cell_type": "code",
   "execution_count": 13,
   "metadata": {},
   "outputs": [
    {
     "data": {
      "text/plain": [
       "\u001b[0;31mSignature:\u001b[0m \u001b[0mweb\u001b[0m\u001b[0;34m.\u001b[0m\u001b[0mclient\u001b[0m\u001b[0;34m.\u001b[0m\u001b[0mapi\u001b[0m\u001b[0;34m.\u001b[0m\u001b[0mstart\u001b[0m\u001b[0;34m(\u001b[0m\u001b[0mcontainer\u001b[0m\u001b[0;34m,\u001b[0m \u001b[0;34m*\u001b[0m\u001b[0margs\u001b[0m\u001b[0;34m,\u001b[0m \u001b[0;34m**\u001b[0m\u001b[0mkwargs\u001b[0m\u001b[0;34m)\u001b[0m\u001b[0;34m\u001b[0m\u001b[0m\n",
       "\u001b[0;31mSource:\u001b[0m   \n",
       "    \u001b[0;34m@\u001b[0m\u001b[0mutils\u001b[0m\u001b[0;34m.\u001b[0m\u001b[0mcheck_resource\u001b[0m\u001b[0;34m(\u001b[0m\u001b[0;34m'container'\u001b[0m\u001b[0;34m)\u001b[0m\u001b[0;34m\u001b[0m\n",
       "\u001b[0;34m\u001b[0m    \u001b[0;32mdef\u001b[0m \u001b[0mstart\u001b[0m\u001b[0;34m(\u001b[0m\u001b[0mself\u001b[0m\u001b[0;34m,\u001b[0m \u001b[0mcontainer\u001b[0m\u001b[0;34m,\u001b[0m \u001b[0;34m*\u001b[0m\u001b[0margs\u001b[0m\u001b[0;34m,\u001b[0m \u001b[0;34m**\u001b[0m\u001b[0mkwargs\u001b[0m\u001b[0;34m)\u001b[0m\u001b[0;34m:\u001b[0m\u001b[0;34m\u001b[0m\n",
       "\u001b[0;34m\u001b[0m        \u001b[0;34m\"\"\"\u001b[0m\n",
       "\u001b[0;34m        Start a container. Similar to the ``docker start`` command, but\u001b[0m\n",
       "\u001b[0;34m        doesn't support attach options.\u001b[0m\n",
       "\u001b[0;34m\u001b[0m\n",
       "\u001b[0;34m        **Deprecation warning:** Passing configuration options in ``start`` is\u001b[0m\n",
       "\u001b[0;34m        no longer supported. Users are expected to provide host config options\u001b[0m\n",
       "\u001b[0;34m        in the ``host_config`` parameter of\u001b[0m\n",
       "\u001b[0;34m        :py:meth:`~ContainerApiMixin.create_container`.\u001b[0m\n",
       "\u001b[0;34m\u001b[0m\n",
       "\u001b[0;34m\u001b[0m\n",
       "\u001b[0;34m        Args:\u001b[0m\n",
       "\u001b[0;34m            container (str): The container to start\u001b[0m\n",
       "\u001b[0;34m\u001b[0m\n",
       "\u001b[0;34m        Raises:\u001b[0m\n",
       "\u001b[0;34m            :py:class:`docker.errors.APIError`\u001b[0m\n",
       "\u001b[0;34m                If the server returns an error.\u001b[0m\n",
       "\u001b[0;34m            :py:class:`docker.errors.DeprecatedMethod`\u001b[0m\n",
       "\u001b[0;34m                If any argument besides ``container`` are provided.\u001b[0m\n",
       "\u001b[0;34m\u001b[0m\n",
       "\u001b[0;34m        Example:\u001b[0m\n",
       "\u001b[0;34m\u001b[0m\n",
       "\u001b[0;34m            >>> container = cli.create_container(\u001b[0m\n",
       "\u001b[0;34m            ...     image='busybox:latest',\u001b[0m\n",
       "\u001b[0;34m            ...     command='/bin/sleep 30')\u001b[0m\n",
       "\u001b[0;34m            >>> cli.start(container=container.get('Id'))\u001b[0m\n",
       "\u001b[0;34m        \"\"\"\u001b[0m\u001b[0;34m\u001b[0m\n",
       "\u001b[0;34m\u001b[0m        \u001b[0;32mif\u001b[0m \u001b[0margs\u001b[0m \u001b[0;32mor\u001b[0m \u001b[0mkwargs\u001b[0m\u001b[0;34m:\u001b[0m\u001b[0;34m\u001b[0m\n",
       "\u001b[0;34m\u001b[0m            \u001b[0;32mraise\u001b[0m \u001b[0merrors\u001b[0m\u001b[0;34m.\u001b[0m\u001b[0mDeprecatedMethod\u001b[0m\u001b[0;34m(\u001b[0m\u001b[0;34m\u001b[0m\n",
       "\u001b[0;34m\u001b[0m                \u001b[0;34m'Providing configuration in the start() method is no longer '\u001b[0m\u001b[0;34m\u001b[0m\n",
       "\u001b[0;34m\u001b[0m                \u001b[0;34m'supported. Use the host_config param in create_container '\u001b[0m\u001b[0;34m\u001b[0m\n",
       "\u001b[0;34m\u001b[0m                \u001b[0;34m'instead.'\u001b[0m\u001b[0;34m\u001b[0m\n",
       "\u001b[0;34m\u001b[0m            \u001b[0;34m)\u001b[0m\u001b[0;34m\u001b[0m\n",
       "\u001b[0;34m\u001b[0m        \u001b[0murl\u001b[0m \u001b[0;34m=\u001b[0m \u001b[0mself\u001b[0m\u001b[0;34m.\u001b[0m\u001b[0m_url\u001b[0m\u001b[0;34m(\u001b[0m\u001b[0;34m\"/containers/{0}/start\"\u001b[0m\u001b[0;34m,\u001b[0m \u001b[0mcontainer\u001b[0m\u001b[0;34m)\u001b[0m\u001b[0;34m\u001b[0m\n",
       "\u001b[0;34m\u001b[0m        \u001b[0mres\u001b[0m \u001b[0;34m=\u001b[0m \u001b[0mself\u001b[0m\u001b[0;34m.\u001b[0m\u001b[0m_post\u001b[0m\u001b[0;34m(\u001b[0m\u001b[0murl\u001b[0m\u001b[0;34m)\u001b[0m\u001b[0;34m\u001b[0m\n",
       "\u001b[0;34m\u001b[0m        \u001b[0mself\u001b[0m\u001b[0;34m.\u001b[0m\u001b[0m_raise_for_status\u001b[0m\u001b[0;34m(\u001b[0m\u001b[0mres\u001b[0m\u001b[0;34m)\u001b[0m\u001b[0;34m\u001b[0m\u001b[0m\n",
       "\u001b[0;31mFile:\u001b[0m      /opt/anaconda/lib/python3.6/site-packages/docker/api/container.py\n",
       "\u001b[0;31mType:\u001b[0m      method\n"
      ]
     },
     "metadata": {},
     "output_type": "display_data"
    }
   ],
   "source": [
    "??web.client.api.start()"
   ]
  },
  {
   "cell_type": "code",
   "execution_count": null,
   "metadata": {},
   "outputs": [],
   "source": []
  }
 ],
 "metadata": {
  "kernelspec": {
   "display_name": "Python 3",
   "language": "python",
   "name": "python3"
  },
  "language_info": {
   "codemirror_mode": {
    "name": "ipython",
    "version": 3
   },
   "file_extension": ".py",
   "mimetype": "text/x-python",
   "name": "python",
   "nbconvert_exporter": "python",
   "pygments_lexer": "ipython3",
   "version": "3.6.4"
  }
 },
 "nbformat": 4,
 "nbformat_minor": 2
}
