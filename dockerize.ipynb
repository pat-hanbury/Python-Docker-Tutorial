{
 "cells": [
  {
   "cell_type": "markdown",
   "metadata": {},
   "source": [
    "## Dockerize Scrap Notebook"
   ]
  },
  {
   "cell_type": "code",
   "execution_count": 1,
   "metadata": {},
   "outputs": [],
   "source": [
    "import docker\n",
    "import os"
   ]
  },
  {
   "cell_type": "code",
   "execution_count": 2,
   "metadata": {},
   "outputs": [],
   "source": [
    "client = docker.from_env()\n",
    "cwd = os.getcwd()\n",
    "dock_pth = os.path.join(cwd,'Dockerfile')"
   ]
  },
  {
   "cell_type": "markdown",
   "metadata": {},
   "source": [
    "## Build Images"
   ]
  },
  {
   "cell_type": "code",
   "execution_count": 3,
   "metadata": {},
   "outputs": [],
   "source": [
    "todo, logs = client.images.build(path=cwd, tag='todo')"
   ]
  },
  {
   "cell_type": "code",
   "execution_count": 4,
   "metadata": {},
   "outputs": [],
   "source": [
    "migrations, logs = client.images.build(path=cwd, tag='migrations')\n"
   ]
  },
  {
   "cell_type": "markdown",
   "metadata": {},
   "source": [
    "## Build Net"
   ]
  },
  {
   "cell_type": "code",
   "execution_count": 9,
   "metadata": {},
   "outputs": [],
   "source": [
    "net_name = 'djang-net'\n",
    "net = client.networks.create(name=net_name, driver='bridge')"
   ]
  },
  {
   "cell_type": "markdown",
   "metadata": {},
   "source": [
    "## Run Containers"
   ]
  },
  {
   "cell_type": "code",
   "execution_count": 6,
   "metadata": {},
   "outputs": [],
   "source": [
    "todo_ports = {'8000/tcp' : 8000}\n",
    "env = [\"FLASK_APP=todolist.py\" , \"SECRET_KEY='secret'\" ]\n",
    "vol = { cwd : {'bind': '/code', 'mode': 'rw'} }"
   ]
  },
  {
   "cell_type": "code",
   "execution_count": 37,
   "metadata": {},
   "outputs": [],
   "source": [
    "migr_cont = client.containers.run(todo, command='flask db upgrade', name='migration',\n",
    "            detach=True, network=net_name, remove=False, environment=env, volumes=vol)"
   ]
  },
  {
   "cell_type": "code",
   "execution_count": 10,
   "metadata": {},
   "outputs": [],
   "source": [
    "todo_cont = client.containers.run(todo, command='gunicorn todolist:app -w 2 -b :8000',\n",
    "            detach=True, network=net_name, ports=todo_ports, remove=True, environment=env, name='todolist')"
   ]
  },
  {
   "cell_type": "code",
   "execution_count": null,
   "metadata": {},
   "outputs": [],
   "source": [
    "services:\n",
    "  todolist:\n",
    "    container_name: todolist\n",
    "    image: todolist\n",
    "    # restart: always\n",
    "    env_file: .env\n",
    "    command: gunicorn todolist:app -w 2 -b :8000\n",
    "    ports:\n",
    "      - \"8000:8000\"\n",
    "    depends_on:\n",
    "      - migration\n",
    "\n",
    "  migration:\n",
    "    container_name: migration\n",
    "    build: .\n",
    "    image: todolist\n",
    "    env_file: .env\n",
    "    command: flask db upgrade\n",
    "    volumes:\n",
    "      - .:/code"
   ]
  }
 ],
 "metadata": {
  "kernelspec": {
   "display_name": "Python 3",
   "language": "python",
   "name": "python3"
  },
  "language_info": {
   "codemirror_mode": {
    "name": "ipython",
    "version": 3
   },
   "file_extension": ".py",
   "mimetype": "text/x-python",
   "name": "python",
   "nbconvert_exporter": "python",
   "pygments_lexer": "ipython3",
   "version": "3.6.4"
  }
 },
 "nbformat": 4,
 "nbformat_minor": 2
}
