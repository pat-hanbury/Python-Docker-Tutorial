{
 "cells": [
  {
   "cell_type": "markdown",
   "metadata": {},
   "source": [
    "# Dockerize Notebook\n",
    "The purpose of this notebook is to aid my tutorial found [here](https://medium.com/@patrickhanbury1/how-to-launch-docker-containers-with-the-official-python-library-31dbe1bff8ca). This notebook is intended to function as a standlone piece that both clones the rHuggler's Django repository for you and launches the Docker containers."
   ]
  },
  {
   "cell_type": "code",
   "execution_count": 1,
   "metadata": {},
   "outputs": [],
   "source": [
    "import docker\n",
    "import os\n",
    "from git import Repo\n",
    "import shutil"
   ]
  },
  {
   "cell_type": "code",
   "execution_count": 2,
   "metadata": {},
   "outputs": [],
   "source": [
    "client = docker.from_env()\n",
    "cwd = os.getcwd()\n",
    "# dock_pth = os.path.join(cwd,'todo')"
   ]
  },
  {
   "cell_type": "markdown",
   "metadata": {},
   "source": [
    "## Clone Repo"
   ]
  },
  {
   "cell_type": "code",
   "execution_count": 3,
   "metadata": {},
   "outputs": [],
   "source": [
    "git_url = 'https://github.com/rHuggler/django-todo.git'\n",
    "repo_dir = os.path.join(cwd, 'todo')\n",
    "if os.path.isdir(repo_dir):\n",
    "    print(f\"Removing {repo_dir}\")\n",
    "    shutil.rmtree(repo_dir, ignore_errors=True)\n",
    "Repo.clone_from(git_url, repo_dir);"
   ]
  },
  {
   "cell_type": "markdown",
   "metadata": {},
   "source": [
    "## Clean Up Docker\n",
    "This was not included in the tutorial, but might be helpful if you want to automate the pruning and removal of your Docker objects"
   ]
  },
  {
   "cell_type": "code",
   "execution_count": 4,
   "metadata": {},
   "outputs": [],
   "source": [
    "# remove dangling containers\n",
    "db_name = 'db'\n",
    "web_name = 'web'\n",
    "api_name = 'api'\n",
    "names = [db_name, web_name, api_name]\n",
    "for cont in client.containers.list(all=True):\n",
    "    if cont.name in names:\n",
    "        cont.stop() # if running\n",
    "        try:\n",
    "            cont.remove()\n",
    "        except:\n",
    "            pass"
   ]
  },
  {
   "cell_type": "code",
   "execution_count": 5,
   "metadata": {},
   "outputs": [],
   "source": [
    "# remove any dangling nets\n",
    "net_name = 'djang-net'\n",
    "nets = client.networks.list()\n",
    "for net in nets:\n",
    "    if net.name == net_name:\n",
    "        net.remove()"
   ]
  },
  {
   "cell_type": "code",
   "execution_count": 6,
   "metadata": {},
   "outputs": [],
   "source": [
    "## Create Shell Script and Move to Todo\n",
    "with open('todo/api/django_todo/api.sh', 'w') as fb:\n",
    "    cmds = ['python manage.py makemigrations', 'python manage.py migrate',\n",
    "           'python manage.py runserver 0.0.0.0:8000']\n",
    "    for cmd in cmds:\n",
    "        fb.write(cmd + '\\n')\n",
    "        \n",
    "with open('todo/web/vue-todo/web.sh', 'w') as fb:\n",
    "    cmds = ['npm install', 'npm run dev']\n",
    "    for cmd in cmds:\n",
    "        fb.write(cmd + '\\n')"
   ]
  },
  {
   "cell_type": "markdown",
   "metadata": {},
   "source": [
    "## Build Images"
   ]
  },
  {
   "cell_type": "code",
   "execution_count": 7,
   "metadata": {},
   "outputs": [],
   "source": [
    "web_pth = os.path.join(repo_dir, 'web')\n",
    "web_img, logs = client.images.build(path=web_pth, tag='web')"
   ]
  },
  {
   "cell_type": "code",
   "execution_count": 8,
   "metadata": {},
   "outputs": [],
   "source": [
    "api_pth = os.path.join(repo_dir, 'api')\n",
    "api_img, logs = client.images.build(path=api_pth, tag='api')"
   ]
  },
  {
   "cell_type": "markdown",
   "metadata": {},
   "source": [
    "## Build Bridge Network"
   ]
  },
  {
   "cell_type": "code",
   "execution_count": 9,
   "metadata": {},
   "outputs": [],
   "source": [
    "net = client.networks.create(name=net_name, driver='bridge')"
   ]
  },
  {
   "cell_type": "markdown",
   "metadata": {},
   "source": [
    "## Run Containers"
   ]
  },
  {
   "cell_type": "markdown",
   "metadata": {},
   "source": [
    "### Define customizable parameters"
   ]
  },
  {
   "cell_type": "code",
   "execution_count": 10,
   "metadata": {},
   "outputs": [],
   "source": [
    "# ports\n",
    "api_ports = {'8000/tcp' : 8000}\n",
    "web_ports = {'8080/tcp' : 8080}\n",
    "web_env = [\"HOST=0.0.0.0\"]\n",
    "\n",
    "# volumes\n",
    "api_vol = { \n",
    "    os.path.join(repo_dir, 'api/django_todo') : {'bind': '/usr/src/app', 'mode': 'rw'}\n",
    "}\n",
    "\n",
    "web_vol = {\n",
    "    os.path.join(repo_dir, 'web/vue-todo') : { 'bind' : '/usr/src/app', 'mode' : 'rw'}\n",
    "}\n",
    "\n",
    "db_vol = {\n",
    "    os.path.join(repo_dir, 'dbdata') : {'bind' : '/var/lib/postgresql/data'}\n",
    "}"
   ]
  },
  {
   "cell_type": "markdown",
   "metadata": {},
   "source": [
    "### Launch Containers"
   ]
  },
  {
   "cell_type": "code",
   "execution_count": 11,
   "metadata": {},
   "outputs": [],
   "source": [
    "db = client.containers.run('postgres:10', detach=True, name='db', \n",
    "                           network=net_name, volumes=db_vol)\n",
    "\n",
    "api = client.containers.run(api_img, ports=api_ports, detach=True, \n",
    "                            name='api', network=net_name, volumes=api_vol,\n",
    "                            command=\"sh api.sh\")\n",
    "\n",
    "# api.restart()\n",
    "\n",
    "web = client.containers.run(web_img, ports=web_ports, detach=True,\n",
    "                           name='web', network=net_name, volumes=web_vol,\n",
    "                           environment=web_env, command=\"sh web.sh\")"
   ]
  }
 ],
 "metadata": {
  "kernelspec": {
   "display_name": "Python 3",
   "language": "python",
   "name": "python3"
  },
  "language_info": {
   "codemirror_mode": {
    "name": "ipython",
    "version": 3
   },
   "file_extension": ".py",
   "mimetype": "text/x-python",
   "name": "python",
   "nbconvert_exporter": "python",
   "pygments_lexer": "ipython3",
   "version": "3.7.0"
  }
 },
 "nbformat": 4,
 "nbformat_minor": 2
}
